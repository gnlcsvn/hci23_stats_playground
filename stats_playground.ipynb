{
 "cells": [
  {
   "cell_type": "markdown",
   "metadata": {},
   "source": [
    "# Stats Playground\n",
    "\n",
    "This Jupyter Notebook serves as a stats playground to understand different kinds of experimental data, including categorical, ordinal, interval, and ratio data. It aims to help you learn which statistical test to use in different situations, such as when there is paired or unpaired data.\n",
    "\n",
    "## Categorical Data\n",
    "\n",
    "Categorical data refers to data that can be divided into distinct categories or groups. Examples of categorical data include gender (male/female), color (red/blue/green), and yes/no responses.\n",
    "\n",
    "When working with categorical data, some common statistical tests include:\n",
    "\n",
    "- Chi-square test: Used to determine if there is a significant association between two categorical variables.\n",
    "- McNemar's test: Used to compare paired categorical data.\n",
    "\n",
    "## Ordinal Data\n",
    "\n",
    "Ordinal data refers to data that has a natural order or ranking. Examples of ordinal data include survey ratings (e.g., Likert scale), educational levels (e.g., high school, bachelor's degree, master's degree), and customer satisfaction ratings (e.g., very satisfied, satisfied, neutral, dissatisfied, very dissatisfied).\n",
    "\n",
    "When working with ordinal data, some common statistical tests include:\n",
    "\n",
    "- Mann-Whitney U test: Used to compare the medians of two independent groups.\n",
    "- Wilcoxon signed-rank test: Used to compare the medians of two related groups.\n",
    "\n",
    "## Interval Data\n",
    "\n",
    "Interval data refers to data that is measured on a continuous scale with equal intervals between values. Examples of interval data include temperature (in Celsius or Fahrenheit), time (in minutes or seconds), and age (in years).\n",
    "\n",
    "When working with interval data, some common statistical tests include:\n",
    "\n",
    "- t-test: Used to compare the means of two independent groups.\n",
    "- Paired t-test: Used to compare the means of two related groups.\n",
    "- Analysis of Variance (ANOVA): Used to compare the means of more than two groups.\n",
    "\n",
    "## Ratio Data\n",
    "\n",
    "Ratio data is similar to interval data but has a meaningful zero point. Examples of ratio data include height (in centimeters), weight (in kilograms), and income (in dollars).\n",
    "\n",
    "When working with ratio data, some common statistical tests include:\n",
    "\n",
    "- t-test: Used to compare the means of two independent groups.\n",
    "- Paired t-test: Used to compare the means of two related groups.\n",
    "- Analysis of Variance (ANOVA): Used to compare the means of more than two groups.\n",
    "- Pearson correlation: Used to measure the strength and direction of the linear relationship between two continuous variables.\n",
    "\n",
    "Choosing the right statistical test depends on the type of data and the research question being investigated. It is important to consider the assumptions of each test and select the appropriate test accordingly.\n",
    "\n",
    "By exploring different statistical tests in this stats playground, you can gain a better understanding of when to use each test and how to interpret the results.\n",
    "\n",
    "Happy exploring and analyzing your experimental data!\n"
   ]
  },
  {
   "cell_type": "markdown",
   "metadata": {},
   "source": [
    "## Categorical Data"
   ]
  },
  {
   "cell_type": "code",
   "execution_count": 32,
   "metadata": {},
   "outputs": [
    {
     "name": "stdout",
     "output_type": "stream",
     "text": [
      "            group task_completed\n",
      "0   new_prototype            yes\n",
      "1   new_prototype            yes\n",
      "2   old_prototype            yes\n",
      "3   old_prototype             no\n",
      "4   new_prototype            yes\n",
      "5   new_prototype            yes\n",
      "6   old_prototype             no\n",
      "7   old_prototype             no\n",
      "8   new_prototype            yes\n",
      "9   old_prototype             no\n",
      "10  new_prototype            yes\n",
      "11  old_prototype            yes\n",
      "12  new_prototype            yes\n",
      "13  new_prototype            yes\n",
      "14  new_prototype            yes\n",
      "15  old_prototype             no\n",
      "16  old_prototype             no\n",
      "17  new_prototype            yes\n",
      "18  old_prototype             no\n",
      "19  old_prototype             no\n"
     ]
    }
   ],
   "source": [
    "import pandas as pd\n",
    "import numpy as np\n",
    "\n",
    "import numpy as np\n",
    "\n",
    "n = 20  # sample size, must be even for equal split\n",
    "\n",
    "# Create an array with n/2 'old_prototype' and n/2 'new_prototype'\n",
    "group = np.array(['old_prototype'] * (n//2) + ['new_prototype'] * (n//2))\n",
    "\n",
    "# Shuffle the array to randomize the order\n",
    "np.random.shuffle(group)\n",
    "\n",
    "# Generate \"task_completed\" values based on \"group\" values\n",
    "task_completed = np.where(group == 'old_prototype', np.random.choice(['yes', 'no'], size=n, p=[0.1, 0.9]), np.random.choice(['yes', 'no'], size=n, p=[0.9, 0.1]))\n",
    "\n",
    "# Create DataFrame\n",
    "df = pd.DataFrame({'group': group, 'task_completed': task_completed})\n",
    "print(df)\n"
   ]
  },
  {
   "cell_type": "markdown",
   "metadata": {},
   "source": [
    "#### Chi-squared test"
   ]
  },
  {
   "cell_type": "code",
   "execution_count": 33,
   "metadata": {},
   "outputs": [
    {
     "name": "stdout",
     "output_type": "stream",
     "text": [
      "task_completed  no  yes\n",
      "group                  \n",
      "new_prototype    0   10\n",
      "old_prototype    8    2\n",
      "Chi-square: 10.208333333333332, p-value: 0.001398074641211553\n"
     ]
    }
   ],
   "source": [
    "from scipy.stats import chi2_contingency\n",
    "\n",
    "# Create a contingency table\n",
    "contingency_table = pd.crosstab(df['group'], df['task_completed'])\n",
    "print(contingency_table)\n",
    "\n",
    "# Perform chi-square test\n",
    "chi2, p, dof, expected = chi2_contingency(contingency_table)\n",
    "\n",
    "print(f'Chi-square: {chi2}, p-value: {p}')"
   ]
  },
  {
   "cell_type": "markdown",
   "metadata": {},
   "source": [
    "#### McNemar's Test"
   ]
  },
  {
   "cell_type": "code",
   "execution_count": 34,
   "metadata": {},
   "outputs": [
    {
     "name": "stdout",
     "output_type": "stream",
     "text": [
      "task_completed  no  yes\n",
      "group                  \n",
      "new_prototype    0   10\n",
      "old_prototype    8    2\n",
      "McNemar statistic: 0.0, p-value: 1.0\n"
     ]
    }
   ],
   "source": [
    "from statsmodels.stats.contingency_tables import mcnemar\n",
    "\n",
    "# Create a contingency table\n",
    "contingency_table = pd.crosstab(df['group'], df['task_completed'])\n",
    "print(contingency_table)\n",
    "\n",
    "# Perform McNemar test\n",
    "result = mcnemar(contingency_table)\n",
    "\n",
    "print(f\"McNemar statistic: {result.statistic}, p-value: {result.pvalue}\")\n"
   ]
  },
  {
   "cell_type": "markdown",
   "metadata": {},
   "source": [
    "## Ordinal Data"
   ]
  },
  {
   "cell_type": "code",
   "execution_count": 46,
   "metadata": {},
   "outputs": [
    {
     "name": "stdout",
     "output_type": "stream",
     "text": [
      "   I enjoy coming to work I can see a long term future at this company  \\\n",
      "0          Strongly Agree                                        Agree   \n",
      "1          Strongly Agree                               Strongly Agree   \n",
      "2                Disagree                               Strongly Agree   \n",
      "3          Strongly Agree                               Strongly Agree   \n",
      "4       Strongly Disagree                                     Disagree   \n",
      "5       Strongly Disagree                               Strongly Agree   \n",
      "6                Disagree                                        Agree   \n",
      "7                   Agree                               Strongly Agree   \n",
      "8                   Agree                               Strongly Agree   \n",
      "9       Strongly Disagree                               Strongly Agree   \n",
      "10      Strongly Disagree                            Strongly Disagree   \n",
      "11                  Agree                               Strongly Agree   \n",
      "12                  Agree                                        Agree   \n",
      "13      Strongly Disagree                               Strongly Agree   \n",
      "14                  Agree                            Strongly Disagree   \n",
      "15                  Agree                                     Disagree   \n",
      "16               Disagree                            Strongly Disagree   \n",
      "17         Strongly Agree                                     Disagree   \n",
      "18               Disagree                                        Agree   \n",
      "19                  Agree                                        Agree   \n",
      "\n",
      "   I can see opportunities to progress in this company          group  \n",
      "0                                   Strongly Disagree   old_prototype  \n",
      "1                                               Agree   old_prototype  \n",
      "2                                               Agree   old_prototype  \n",
      "3                                            Disagree   old_prototype  \n",
      "4                                      Strongly Agree   old_prototype  \n",
      "5                                            Disagree   old_prototype  \n",
      "6                                            Disagree   old_prototype  \n",
      "7                                      Strongly Agree   old_prototype  \n",
      "8                                               Agree   old_prototype  \n",
      "9                                      Strongly Agree   old_prototype  \n",
      "10                                              Agree   new_prototype  \n",
      "11                                     Strongly Agree   new_prototype  \n",
      "12                                  Strongly Disagree   new_prototype  \n",
      "13                                           Disagree   new_prototype  \n",
      "14                                           Disagree   new_prototype  \n",
      "15                                  Strongly Disagree   new_prototype  \n",
      "16                                  Strongly Disagree   new_prototype  \n",
      "17                                  Strongly Disagree   new_prototype  \n",
      "18                                  Strongly Disagree   new_prototype  \n",
      "19                                     Strongly Agree   new_prototype  \n"
     ]
    }
   ],
   "source": [
    "import pandas as pd\n",
    "import numpy as np\n",
    "from scipy.stats import wilcoxon\n",
    "\n",
    "n = 20  # sample size, must be even for equal split\n",
    "\n",
    "# Create an array with n/2 'old_prototype' and n/2 'new_prototype'\n",
    "group = np.array(['old_prototype'] * (n//2) + ['new_prototype'] * (n//2))\n",
    "\n",
    "# Define the Likert questions\n",
    "questions = ['I enjoy coming to work', 'I can see a long term future at this company', 'I can see opportunities to progress in this company']\n",
    "\n",
    "# Define the answer options\n",
    "answer_options = ['Strongly Disagree', 'Disagree', 'Agree', 'Strongly Agree']\n",
    "\n",
    "# Create an empty dataframe\n",
    "df = pd.DataFrame()\n",
    "\n",
    "# Generate random answers for each participant\n",
    "for i in range(20):\n",
    "    participant_answers = [np.random.choice(answer_options) for _ in range(len(questions))]\n",
    "    participant_group = group[i]\n",
    "    participant_data = pd.DataFrame([participant_answers], columns=questions)\n",
    "    participant_data['group'] = participant_group\n",
    "    df = pd.concat([df, participant_data], ignore_index=True)\n",
    "\n",
    "# Print the dummy dataset\n",
    "print(df)"
   ]
  },
  {
   "cell_type": "markdown",
   "metadata": {},
   "source": [
    "#### Wilcoxon signed-rank test"
   ]
  },
  {
   "cell_type": "code",
   "execution_count": 48,
   "metadata": {},
   "outputs": [
    {
     "name": "stdout",
     "output_type": "stream",
     "text": [
      "Wilcoxon test for I enjoy coming to work: statistic=22.0, p-value=0.9521317232884507, median (old group)=2.5, median (new group)=3.0\n",
      "Wilcoxon test for I can see a long term future at this company: statistic=0.0, p-value=0.009747807101173898, median (old group)=4.0, median (new group)=2.5\n",
      "Wilcoxon test for I can see opportunities to progress in this company: statistic=7.5, p-value=0.13460465781116093, median (old group)=3.0, median (new group)=1.5\n"
     ]
    }
   ],
   "source": [
    "import warnings\n",
    "\n",
    "# Convert answer options to integers\n",
    "answer_mapping = {'Strongly Disagree': 1, 'Disagree': 2, 'Agree': 3, 'Strongly Agree': 4}\n",
    "\n",
    "# Convert answers to integers\n",
    "df_int = df.replace(answer_mapping)\n",
    "\n",
    "# Perform Wilcoxon test for each question and calculate median\n",
    "for question in questions:\n",
    "    old_group = df_int[df_int['group'] == 'old_prototype'][question]\n",
    "    new_group = df_int[df_int['group'] == 'new_prototype'][question]\n",
    "    with warnings.catch_warnings():\n",
    "        warnings.simplefilter(\"ignore\")\n",
    "        result = wilcoxon(old_group, new_group)\n",
    "    median_old = old_group.median()\n",
    "    median_new = new_group.median()\n",
    "    print(f\"Wilcoxon test for {question}: statistic={result.statistic}, p-value={result.pvalue}, median (old group)={median_old}, median (new group)={median_new}\")"
   ]
  },
  {
   "cell_type": "markdown",
   "metadata": {},
   "source": [
    "#### Mann-Whitney U test"
   ]
  },
  {
   "cell_type": "code",
   "execution_count": 37,
   "metadata": {},
   "outputs": [
    {
     "name": "stdout",
     "output_type": "stream",
     "text": [
      "Mann-Whitney U test for I enjoy coming to work: statistic=31.5, p-value=0.15506801868037853, median (old group)=2.5, median (new group)=3.0\n",
      "Mann-Whitney U test for I can see a long term future at this company: statistic=36.0, p-value=0.28762738195501514, median (old group)=2.0, median (new group)=3.0\n",
      "Mann-Whitney U test for I can see opportunities to progress in this company: statistic=55.0, p-value=0.7239744542152693, median (old group)=3.0, median (new group)=2.5\n"
     ]
    }
   ],
   "source": [
    "from scipy.stats import mannwhitneyu\n",
    "\n",
    "# Convert answer options to integers\n",
    "answer_mapping = {'Strongly Disagree': 1, 'Disagree': 2, 'Agree': 3, 'Strongly Agree': 4}\n",
    "\n",
    "# Convert answers to integers\n",
    "df_int = df.replace(answer_mapping)\n",
    "\n",
    "# Perform Mann-Whitney U test for each question and calculate median\n",
    "for question in questions:\n",
    "    old_group = df_int[df_int['group'] == 'old_prototype'][question]\n",
    "    new_group = df_int[df_int['group'] == 'new_prototype'][question]\n",
    "    result = mannwhitneyu(old_group, new_group)\n",
    "    median_old = old_group.median()\n",
    "    median_new = new_group.median()\n",
    "    print(f\"Mann-Whitney U test for {question}: statistic={result.statistic}, p-value={result.pvalue}, median (old group)={median_old}, median (new group)={median_new}\")\n"
   ]
  },
  {
   "cell_type": "markdown",
   "metadata": {},
   "source": [
    "## Interval & Ratio Data"
   ]
  },
  {
   "cell_type": "markdown",
   "metadata": {},
   "source": []
  },
  {
   "cell_type": "code",
   "execution_count": 38,
   "metadata": {},
   "outputs": [
    {
     "name": "stdout",
     "output_type": "stream",
     "text": [
      "            group  task_completion_time\n",
      "0   old_prototype                    90\n",
      "1   old_prototype                   116\n",
      "2   old_prototype                   101\n",
      "3   old_prototype                    99\n",
      "4   old_prototype                   113\n",
      "5   old_prototype                   105\n",
      "6   old_prototype                   116\n",
      "7   old_prototype                   113\n",
      "8   old_prototype                   106\n",
      "9   old_prototype                   120\n",
      "10  new_prototype                    60\n",
      "11  new_prototype                    56\n",
      "12  new_prototype                    40\n",
      "13  new_prototype                    40\n",
      "14  new_prototype                    51\n",
      "15  new_prototype                    48\n",
      "16  new_prototype                    56\n",
      "17  new_prototype                    35\n",
      "18  new_prototype                    59\n",
      "19  new_prototype                    55\n"
     ]
    }
   ],
   "source": [
    "import pandas as pd\n",
    "import numpy as np\n",
    "from scipy.stats import wilcoxon\n",
    "from scipy.stats import shapiro\n",
    "from scipy.stats import ttest_ind\n",
    "import matplotlib.pyplot as plt\n",
    "\n",
    "n = 20  # sample size, must be even for equal split\n",
    "\n",
    "# Create an array with n/2 'old_prototype' and n/2 'new_prototype'\n",
    "group = np.array(['old_prototype'] * (n//2) + ['new_prototype'] * (n//2))\n",
    "\n",
    "# Generate task completion time with a significant difference between the two groups\n",
    "old_group_completion_time = np.random.randint(90, 121, size=n//2)  # Higher completion time for old_prototype group\n",
    "new_group_completion_time = np.random.randint(30, 61, size=n//2)  # Lower completion time for new_prototype group\n",
    "\n",
    "# Combine the completion times for both groups\n",
    "task_completion_time = np.concatenate((old_group_completion_time, new_group_completion_time))\n",
    "\n",
    "# Create DataFrame\n",
    "df = pd.DataFrame({'group': group, 'task_completion_time': task_completion_time})\n",
    "print(df)\n"
   ]
  },
  {
   "cell_type": "code",
   "execution_count": 39,
   "metadata": {},
   "outputs": [
    {
     "data": {
      "image/png": "[encoded data removed]",
      "text/plain": [
       "<Figure size 640x480 with 1 Axes>"
      ]
     },
     "metadata": {},
     "output_type": "display_data"
    },
    {
     "name": "stdout",
     "output_type": "stream",
     "text": [
      "Shapiro-Wilk test statistic for old_prototype group: 0.9434830546379089, p-value: 0.5923795700073242\n"
     ]
    },
    {
     "data": {
      "image/png": "[encoded data removed]",
      "text/plain": [
       "<Figure size 640x480 with 1 Axes>"
      ]
     },
     "metadata": {},
     "output_type": "display_data"
    },
    {
     "name": "stdout",
     "output_type": "stream",
     "text": [
      "Shapiro-Wilk test statistic for new_prototype group: 0.8944993615150452, p-value: 0.1904485672712326\n"
     ]
    }
   ],
   "source": [
    "# Plot histogram for old_prototype group\n",
    "plt.hist(df[df['group'] == 'old_prototype']['task_completion_time'], bins='auto')\n",
    "plt.xlabel('Task Completion Time')\n",
    "plt.ylabel('Frequency')\n",
    "plt.title('Distribution of Task Completion Time for old_prototype Group')\n",
    "plt.show()\n",
    "\n",
    "# Perform Shapiro-Wilk test for old_prototype group\n",
    "stat, p = shapiro(df[df['group'] == 'old_prototype']['task_completion_time'])\n",
    "print(f\"Shapiro-Wilk test statistic for old_prototype group: {stat}, p-value: {p}\")\n",
    "\n",
    "# Plot histogram for new_prototype group\n",
    "plt.hist(df[df['group'] == 'new_prototype']['task_completion_time'], bins='auto')\n",
    "plt.xlabel('Task Completion Time')\n",
    "plt.ylabel('Frequency')\n",
    "plt.title('Distribution of Task Completion Time for new_prototype Group')\n",
    "plt.show()\n",
    "\n",
    "# Perform Shapiro-Wilk test for new_prototype group\n",
    "stat, p = shapiro(df[df['group'] == 'new_prototype']['task_completion_time'])\n",
    "print(f\"Shapiro-Wilk test statistic for new_prototype group: {stat}, p-value: {p}\")"
   ]
  },
  {
   "cell_type": "code",
   "execution_count": 40,
   "metadata": {},
   "outputs": [
    {
     "name": "stdout",
     "output_type": "stream",
     "text": [
      "Unpaired t-test: t-statistic=14.197223662748605, p-value=3.223903443390051e-11\n",
      "Mann-Whitney U test: statistic=100.0, p-value=0.00017861448837368162\n",
      "Paired t-test: t-statistic=14.738874791671138, p-value=1.3138578836353787e-07\n",
      "Wilcoxon test: statistic=0.0, p-value=0.001953125\n"
     ]
    }
   ],
   "source": [
    "from scipy.stats import ttest_rel\n",
    "\n",
    "# Unpaired t-test\n",
    "t_statistic, p_value = ttest_ind(df[df['group'] == 'old_prototype']['task_completion_time'], df[df['group'] == 'new_prototype']['task_completion_time'])\n",
    "print(f\"Unpaired t-test: t-statistic={t_statistic}, p-value={p_value}\")\n",
    "\n",
    "# Mann-Whitney U test\n",
    "result = mannwhitneyu(df[df['group'] == 'old_prototype']['task_completion_time'], df[df['group'] == 'new_prototype']['task_completion_time'])\n",
    "print(f\"Mann-Whitney U test: statistic={result.statistic}, p-value={result.pvalue}\")\n",
    "\n",
    "# Paired t-test\n",
    "result = ttest_rel(df[df['group'] == 'old_prototype']['task_completion_time'], df[df['group'] == 'new_prototype']['task_completion_time'])\n",
    "print(f\"Paired t-test: t-statistic={result.statistic}, p-value={result.pvalue}\")\n",
    "\n",
    "# Wilcoxon test\n",
    "result = wilcoxon(df[df['group'] == 'old_prototype']['task_completion_time'], df[df['group'] == 'new_prototype']['task_completion_time'])\n",
    "print(f\"Wilcoxon test: statistic={result.statistic}, p-value={result.pvalue}\")"
   ]
  },
  {
   "cell_type": "markdown",
   "metadata": {},
   "source": [
    "#### ANOVA\n",
    "\n",
    "ANOVA (Analysis of Variance) is a statistical test used to determine if there are any significant differences between the means of two or more groups. It compares the variation between groups to the variation within groups. If the between-group variation is significantly larger, it suggests that the group means are different. The test produces an F-statistic (ratio of between-group to within-group variation) and a p-value (probability of observing the results by chance). A low p-value (usually below 0.05) indicates significant differences between the means."
   ]
  },
  {
   "cell_type": "code",
   "execution_count": 41,
   "metadata": {},
   "outputs": [
    {
     "name": "stdout",
     "output_type": "stream",
     "text": [
      "         group  task_completion_time\n",
      "0   prototype1                    50\n",
      "1   prototype1                    30\n",
      "2   prototype1                    54\n",
      "3   prototype1                    58\n",
      "4   prototype1                    40\n",
      "5   prototype1                    57\n",
      "6   prototype1                    31\n",
      "7   prototype1                    56\n",
      "8   prototype1                    43\n",
      "9   prototype1                    52\n",
      "10  prototype2                    65\n",
      "11  prototype2                    40\n",
      "12  prototype2                    71\n",
      "13  prototype2                    52\n",
      "14  prototype2                    66\n",
      "15  prototype2                    49\n",
      "16  prototype2                    79\n",
      "17  prototype2                    71\n",
      "18  prototype2                    48\n",
      "19  prototype2                    46\n",
      "20  prototype3                    42\n",
      "21  prototype3                    83\n",
      "22  prototype3                    59\n",
      "23  prototype3                    88\n",
      "24  prototype3                    56\n",
      "25  prototype3                    40\n",
      "26  prototype3                    40\n",
      "27  prototype3                    40\n",
      "28  prototype3                    73\n",
      "29  prototype3                    47\n",
      "One-way ANOVA: F-statistic=1.8477000318212358, p-value=0.17697881885127542\n"
     ]
    }
   ],
   "source": [
    "import pandas as pd\n",
    "import numpy as np\n",
    "from scipy.stats import f_oneway\n",
    "\n",
    "n = 30  # sample size\n",
    "\n",
    "# Create an array with n/3 'prototype1', n/3 'prototype2', and n/3 'prototype3'\n",
    "group = np.array(['prototype1'] * (n//3) + ['prototype2'] * (n//3) + ['prototype3'] * (n//3))\n",
    "\n",
    "# Generate random task completion times for each prototype\n",
    "task_completion_time = np.concatenate((np.random.randint(30, 61, size=n//3),\n",
    "                                       np.random.randint(40, 80, size=n//3),\n",
    "                                       np.random.randint(40, 90, size=n//3)))\n",
    "\n",
    "# Create DataFrame\n",
    "df = pd.DataFrame({'group': group, 'task_completion_time': task_completion_time})\n",
    "print(df)\n",
    "\n",
    "# Perform one-way ANOVA\n",
    "result = f_oneway(df[df['group'] == 'prototype1']['task_completion_time'],\n",
    "                  df[df['group'] == 'prototype2']['task_completion_time'],\n",
    "                  df[df['group'] == 'prototype3']['task_completion_time'])\n",
    "\n",
    "print(f\"One-way ANOVA: F-statistic={result.statistic}, p-value={result.pvalue}\")\n"
   ]
  },
  {
   "cell_type": "markdown",
   "metadata": {},
   "source": [
    "#### Tukey Test: ANOVA with Pairwise T-Test alreadyy included "
   ]
  },
  {
   "cell_type": "code",
   "execution_count": 42,
   "metadata": {},
   "outputs": [
    {
     "name": "stdout",
     "output_type": "stream",
     "text": [
      "     Multiple Comparison of Means - Tukey HSD, FWER=0.05     \n",
      "=============================================================\n",
      "  group1     group2   meandiff p-adj   lower    upper  reject\n",
      "-------------------------------------------------------------\n",
      "prototype1 prototype2     11.6 0.1913  -4.4495 27.6495  False\n",
      "prototype1 prototype3      9.7 0.3075  -6.3495 25.7495  False\n",
      "prototype2 prototype3     -1.9 0.9537 -17.9495 14.1495  False\n",
      "-------------------------------------------------------------\n"
     ]
    }
   ],
   "source": [
    "\n",
    "from statsmodels.stats.multicomp import pairwise_tukeyhsd\n",
    "\n",
    "# Perform the pairwise comparisons\n",
    "posthoc = pairwise_tukeyhsd(df['task_completion_time'], df['group'])\n",
    "\n",
    "# Print the results\n",
    "print(posthoc)"
   ]
  },
  {
   "cell_type": "code",
   "execution_count": null,
   "metadata": {},
   "outputs": [],
   "source": []
  }
 ],
 "metadata": {
  "kernelspec": {
   "display_name": "Python Demo",
   "language": "python",
   "name": "python3"
  },
  "language_info": {
   "codemirror_mode": {
    "name": "ipython",
    "version": 3
   },
   "file_extension": ".py",
   "mimetype": "text/x-python",
   "name": "python",
   "nbconvert_exporter": "python",
   "pygments_lexer": "ipython3",
   "version": "3.9.13"
  }
 },
 "nbformat": 4,
 "nbformat_minor": 2
}
